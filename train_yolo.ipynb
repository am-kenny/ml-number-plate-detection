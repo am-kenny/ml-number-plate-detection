{
 "cells": [
  {
   "cell_type": "code",
   "id": "initial_id",
   "metadata": {
    "collapsed": true,
    "ExecuteTime": {
     "end_time": "2024-07-12T02:31:45.822243Z",
     "start_time": "2024-07-12T02:31:45.812244Z"
    }
   },
   "source": [
    "from glob import glob\n",
    "import pandas as pd\n",
    "import xml.etree.ElementTree as xet\n",
    "import os\n",
    "from shutil import copy"
   ],
   "outputs": [],
   "execution_count": 3
  },
  {
   "metadata": {
    "ExecuteTime": {
     "end_time": "2024-07-12T02:31:46.607932Z",
     "start_time": "2024-07-12T02:31:46.569938Z"
    }
   },
   "cell_type": "code",
   "source": [
    "path = glob('./data/images/*.xml')\n",
    "labels_dict = dict(filepath=[],xmin=[],xmax=[],ymin=[],ymax=[])\n",
    "for filename in path:\n",
    "    info = xet.parse(filename)\n",
    "    root = info.getroot()\n",
    "    member_object = root.find('object')\n",
    "    labels_info = member_object.find('bndbox')\n",
    "    xmin = int(labels_info.find('xmin').text)\n",
    "    xmax = int(labels_info.find('xmax').text)\n",
    "    ymin = int(labels_info.find('ymin').text)\n",
    "    ymax = int(labels_info.find('ymax').text)\n",
    "\n",
    "    labels_dict['filepath'].append(filename)\n",
    "    labels_dict['xmin'].append(xmin)\n",
    "    labels_dict['xmax'].append(xmax)\n",
    "    labels_dict['ymin'].append(ymin)\n",
    "    labels_dict['ymax'].append(ymax)"
   ],
   "id": "bb799e3f64967de6",
   "outputs": [],
   "execution_count": 4
  },
  {
   "metadata": {
    "ExecuteTime": {
     "end_time": "2024-07-12T02:31:47.666932Z",
     "start_time": "2024-07-12T02:31:47.638936Z"
    }
   },
   "cell_type": "code",
   "source": [
    "df = pd.DataFrame(labels_dict)\n",
    "df.to_csv('labels.csv',index=False)\n",
    "df.head()"
   ],
   "id": "d77b0786e3caeda7",
   "outputs": [
    {
     "data": {
      "text/plain": [
       "                 filepath  xmin  xmax  ymin  ymax\n",
       "0    ./data/images\\N1.xml  1093  1396   645   727\n",
       "1  ./data/images\\N100.xml   134   301   312   350\n",
       "2  ./data/images\\N101.xml    31   139   128   161\n",
       "3  ./data/images\\N102.xml   164   316   216   243\n",
       "4  ./data/images\\N103.xml   813  1067   665   724"
      ],
      "text/html": [
       "<div>\n",
       "<style scoped>\n",
       "    .dataframe tbody tr th:only-of-type {\n",
       "        vertical-align: middle;\n",
       "    }\n",
       "\n",
       "    .dataframe tbody tr th {\n",
       "        vertical-align: top;\n",
       "    }\n",
       "\n",
       "    .dataframe thead th {\n",
       "        text-align: right;\n",
       "    }\n",
       "</style>\n",
       "<table border=\"1\" class=\"dataframe\">\n",
       "  <thead>\n",
       "    <tr style=\"text-align: right;\">\n",
       "      <th></th>\n",
       "      <th>filepath</th>\n",
       "      <th>xmin</th>\n",
       "      <th>xmax</th>\n",
       "      <th>ymin</th>\n",
       "      <th>ymax</th>\n",
       "    </tr>\n",
       "  </thead>\n",
       "  <tbody>\n",
       "    <tr>\n",
       "      <th>0</th>\n",
       "      <td>./data/images\\N1.xml</td>\n",
       "      <td>1093</td>\n",
       "      <td>1396</td>\n",
       "      <td>645</td>\n",
       "      <td>727</td>\n",
       "    </tr>\n",
       "    <tr>\n",
       "      <th>1</th>\n",
       "      <td>./data/images\\N100.xml</td>\n",
       "      <td>134</td>\n",
       "      <td>301</td>\n",
       "      <td>312</td>\n",
       "      <td>350</td>\n",
       "    </tr>\n",
       "    <tr>\n",
       "      <th>2</th>\n",
       "      <td>./data/images\\N101.xml</td>\n",
       "      <td>31</td>\n",
       "      <td>139</td>\n",
       "      <td>128</td>\n",
       "      <td>161</td>\n",
       "    </tr>\n",
       "    <tr>\n",
       "      <th>3</th>\n",
       "      <td>./data/images\\N102.xml</td>\n",
       "      <td>164</td>\n",
       "      <td>316</td>\n",
       "      <td>216</td>\n",
       "      <td>243</td>\n",
       "    </tr>\n",
       "    <tr>\n",
       "      <th>4</th>\n",
       "      <td>./data/images\\N103.xml</td>\n",
       "      <td>813</td>\n",
       "      <td>1067</td>\n",
       "      <td>665</td>\n",
       "      <td>724</td>\n",
       "    </tr>\n",
       "  </tbody>\n",
       "</table>\n",
       "</div>"
      ]
     },
     "execution_count": 5,
     "metadata": {},
     "output_type": "execute_result"
    }
   ],
   "execution_count": 5
  },
  {
   "metadata": {
    "ExecuteTime": {
     "end_time": "2024-07-12T02:31:48.812741Z",
     "start_time": "2024-07-12T02:31:48.755746Z"
    }
   },
   "cell_type": "code",
   "source": [
    "# parsing\n",
    "def parsing(path):\n",
    "    parser = xet.parse(path).getroot()\n",
    "    name = parser.find('filename').text\n",
    "    filename = f'./data/images/{name}'\n",
    "\n",
    "    # width and height\n",
    "    parser_size = parser.find('size')\n",
    "    width = int(parser_size.find('width').text)\n",
    "    height = int(parser_size.find('height').text)\n",
    "    \n",
    "    return filename, width, height\n",
    "df[['filename','width','height']] = df['filepath'].apply(parsing).apply(pd.Series)\n",
    "df.head()"
   ],
   "id": "e323277bc88a9eb2",
   "outputs": [
    {
     "data": {
      "text/plain": [
       "                 filepath  xmin  xmax  ymin  ymax                 filename  \\\n",
       "0    ./data/images\\N1.xml  1093  1396   645   727    ./data/images/N1.jpeg   \n",
       "1  ./data/images\\N100.xml   134   301   312   350  ./data/images/N100.jpeg   \n",
       "2  ./data/images\\N101.xml    31   139   128   161  ./data/images/N101.jpeg   \n",
       "3  ./data/images\\N102.xml   164   316   216   243  ./data/images/N102.jpeg   \n",
       "4  ./data/images\\N103.xml   813  1067   665   724  ./data/images/N103.jpeg   \n",
       "\n",
       "   width  height  \n",
       "0   1920    1080  \n",
       "1    450     417  \n",
       "2    249     239  \n",
       "3    478     395  \n",
       "4   1800    1200  "
      ],
      "text/html": [
       "<div>\n",
       "<style scoped>\n",
       "    .dataframe tbody tr th:only-of-type {\n",
       "        vertical-align: middle;\n",
       "    }\n",
       "\n",
       "    .dataframe tbody tr th {\n",
       "        vertical-align: top;\n",
       "    }\n",
       "\n",
       "    .dataframe thead th {\n",
       "        text-align: right;\n",
       "    }\n",
       "</style>\n",
       "<table border=\"1\" class=\"dataframe\">\n",
       "  <thead>\n",
       "    <tr style=\"text-align: right;\">\n",
       "      <th></th>\n",
       "      <th>filepath</th>\n",
       "      <th>xmin</th>\n",
       "      <th>xmax</th>\n",
       "      <th>ymin</th>\n",
       "      <th>ymax</th>\n",
       "      <th>filename</th>\n",
       "      <th>width</th>\n",
       "      <th>height</th>\n",
       "    </tr>\n",
       "  </thead>\n",
       "  <tbody>\n",
       "    <tr>\n",
       "      <th>0</th>\n",
       "      <td>./data/images\\N1.xml</td>\n",
       "      <td>1093</td>\n",
       "      <td>1396</td>\n",
       "      <td>645</td>\n",
       "      <td>727</td>\n",
       "      <td>./data/images/N1.jpeg</td>\n",
       "      <td>1920</td>\n",
       "      <td>1080</td>\n",
       "    </tr>\n",
       "    <tr>\n",
       "      <th>1</th>\n",
       "      <td>./data/images\\N100.xml</td>\n",
       "      <td>134</td>\n",
       "      <td>301</td>\n",
       "      <td>312</td>\n",
       "      <td>350</td>\n",
       "      <td>./data/images/N100.jpeg</td>\n",
       "      <td>450</td>\n",
       "      <td>417</td>\n",
       "    </tr>\n",
       "    <tr>\n",
       "      <th>2</th>\n",
       "      <td>./data/images\\N101.xml</td>\n",
       "      <td>31</td>\n",
       "      <td>139</td>\n",
       "      <td>128</td>\n",
       "      <td>161</td>\n",
       "      <td>./data/images/N101.jpeg</td>\n",
       "      <td>249</td>\n",
       "      <td>239</td>\n",
       "    </tr>\n",
       "    <tr>\n",
       "      <th>3</th>\n",
       "      <td>./data/images\\N102.xml</td>\n",
       "      <td>164</td>\n",
       "      <td>316</td>\n",
       "      <td>216</td>\n",
       "      <td>243</td>\n",
       "      <td>./data/images/N102.jpeg</td>\n",
       "      <td>478</td>\n",
       "      <td>395</td>\n",
       "    </tr>\n",
       "    <tr>\n",
       "      <th>4</th>\n",
       "      <td>./data/images\\N103.xml</td>\n",
       "      <td>813</td>\n",
       "      <td>1067</td>\n",
       "      <td>665</td>\n",
       "      <td>724</td>\n",
       "      <td>./data/images/N103.jpeg</td>\n",
       "      <td>1800</td>\n",
       "      <td>1200</td>\n",
       "    </tr>\n",
       "  </tbody>\n",
       "</table>\n",
       "</div>"
      ]
     },
     "execution_count": 6,
     "metadata": {},
     "output_type": "execute_result"
    }
   ],
   "execution_count": 6
  },
  {
   "metadata": {
    "ExecuteTime": {
     "end_time": "2024-07-12T02:31:49.804043Z",
     "start_time": "2024-07-12T02:31:49.783042Z"
    }
   },
   "cell_type": "code",
   "source": [
    "# center_x, center_y, width , height\n",
    "df['center_x'] = (df['xmax'] + df['xmin'])/(2*df['width'])\n",
    "df['center_y'] = (df['ymax'] + df['ymin'])/(2*df['height'])\n",
    "\n",
    "df['bb_width'] = (df['xmax'] - df['xmin'])/df['width']\n",
    "df['bb_height'] = (df['ymax'] - df['ymin'])/df['height']\n",
    "df.head()"
   ],
   "id": "6df3294698041f50",
   "outputs": [
    {
     "data": {
      "text/plain": [
       "                 filepath  xmin  xmax  ymin  ymax                 filename  \\\n",
       "0    ./data/images\\N1.xml  1093  1396   645   727    ./data/images/N1.jpeg   \n",
       "1  ./data/images\\N100.xml   134   301   312   350  ./data/images/N100.jpeg   \n",
       "2  ./data/images\\N101.xml    31   139   128   161  ./data/images/N101.jpeg   \n",
       "3  ./data/images\\N102.xml   164   316   216   243  ./data/images/N102.jpeg   \n",
       "4  ./data/images\\N103.xml   813  1067   665   724  ./data/images/N103.jpeg   \n",
       "\n",
       "   width  height  center_x  center_y  bb_width  bb_height  \n",
       "0   1920    1080  0.648177  0.635185  0.157812   0.075926  \n",
       "1    450     417  0.483333  0.793765  0.371111   0.091127  \n",
       "2    249     239  0.341365  0.604603  0.433735   0.138075  \n",
       "3    478     395  0.502092  0.581013  0.317992   0.068354  \n",
       "4   1800    1200  0.522222  0.578750  0.141111   0.049167  "
      ],
      "text/html": [
       "<div>\n",
       "<style scoped>\n",
       "    .dataframe tbody tr th:only-of-type {\n",
       "        vertical-align: middle;\n",
       "    }\n",
       "\n",
       "    .dataframe tbody tr th {\n",
       "        vertical-align: top;\n",
       "    }\n",
       "\n",
       "    .dataframe thead th {\n",
       "        text-align: right;\n",
       "    }\n",
       "</style>\n",
       "<table border=\"1\" class=\"dataframe\">\n",
       "  <thead>\n",
       "    <tr style=\"text-align: right;\">\n",
       "      <th></th>\n",
       "      <th>filepath</th>\n",
       "      <th>xmin</th>\n",
       "      <th>xmax</th>\n",
       "      <th>ymin</th>\n",
       "      <th>ymax</th>\n",
       "      <th>filename</th>\n",
       "      <th>width</th>\n",
       "      <th>height</th>\n",
       "      <th>center_x</th>\n",
       "      <th>center_y</th>\n",
       "      <th>bb_width</th>\n",
       "      <th>bb_height</th>\n",
       "    </tr>\n",
       "  </thead>\n",
       "  <tbody>\n",
       "    <tr>\n",
       "      <th>0</th>\n",
       "      <td>./data/images\\N1.xml</td>\n",
       "      <td>1093</td>\n",
       "      <td>1396</td>\n",
       "      <td>645</td>\n",
       "      <td>727</td>\n",
       "      <td>./data/images/N1.jpeg</td>\n",
       "      <td>1920</td>\n",
       "      <td>1080</td>\n",
       "      <td>0.648177</td>\n",
       "      <td>0.635185</td>\n",
       "      <td>0.157812</td>\n",
       "      <td>0.075926</td>\n",
       "    </tr>\n",
       "    <tr>\n",
       "      <th>1</th>\n",
       "      <td>./data/images\\N100.xml</td>\n",
       "      <td>134</td>\n",
       "      <td>301</td>\n",
       "      <td>312</td>\n",
       "      <td>350</td>\n",
       "      <td>./data/images/N100.jpeg</td>\n",
       "      <td>450</td>\n",
       "      <td>417</td>\n",
       "      <td>0.483333</td>\n",
       "      <td>0.793765</td>\n",
       "      <td>0.371111</td>\n",
       "      <td>0.091127</td>\n",
       "    </tr>\n",
       "    <tr>\n",
       "      <th>2</th>\n",
       "      <td>./data/images\\N101.xml</td>\n",
       "      <td>31</td>\n",
       "      <td>139</td>\n",
       "      <td>128</td>\n",
       "      <td>161</td>\n",
       "      <td>./data/images/N101.jpeg</td>\n",
       "      <td>249</td>\n",
       "      <td>239</td>\n",
       "      <td>0.341365</td>\n",
       "      <td>0.604603</td>\n",
       "      <td>0.433735</td>\n",
       "      <td>0.138075</td>\n",
       "    </tr>\n",
       "    <tr>\n",
       "      <th>3</th>\n",
       "      <td>./data/images\\N102.xml</td>\n",
       "      <td>164</td>\n",
       "      <td>316</td>\n",
       "      <td>216</td>\n",
       "      <td>243</td>\n",
       "      <td>./data/images/N102.jpeg</td>\n",
       "      <td>478</td>\n",
       "      <td>395</td>\n",
       "      <td>0.502092</td>\n",
       "      <td>0.581013</td>\n",
       "      <td>0.317992</td>\n",
       "      <td>0.068354</td>\n",
       "    </tr>\n",
       "    <tr>\n",
       "      <th>4</th>\n",
       "      <td>./data/images\\N103.xml</td>\n",
       "      <td>813</td>\n",
       "      <td>1067</td>\n",
       "      <td>665</td>\n",
       "      <td>724</td>\n",
       "      <td>./data/images/N103.jpeg</td>\n",
       "      <td>1800</td>\n",
       "      <td>1200</td>\n",
       "      <td>0.522222</td>\n",
       "      <td>0.578750</td>\n",
       "      <td>0.141111</td>\n",
       "      <td>0.049167</td>\n",
       "    </tr>\n",
       "  </tbody>\n",
       "</table>\n",
       "</div>"
      ]
     },
     "execution_count": 7,
     "metadata": {},
     "output_type": "execute_result"
    }
   ],
   "execution_count": 7
  },
  {
   "metadata": {
    "ExecuteTime": {
     "end_time": "2024-07-12T02:18:53.413063Z",
     "start_time": "2024-07-12T02:18:50.865020Z"
    }
   },
   "cell_type": "code",
   "source": "!git clone https://github.com/ultralytics/yolov5",
   "id": "7157ef6c9a2d4ead",
   "outputs": [
    {
     "name": "stderr",
     "output_type": "stream",
     "text": [
      "Cloning into 'yolov5'...\n"
     ]
    }
   ],
   "execution_count": 1
  },
  {
   "metadata": {
    "ExecuteTime": {
     "end_time": "2024-07-12T02:31:58.328768Z",
     "start_time": "2024-07-12T02:31:56.729168Z"
    }
   },
   "cell_type": "code",
   "source": "!pip install -r ./yolov5/requirements.txt",
   "id": "dfc9a6022515b3fa",
   "outputs": [
    {
     "name": "stdout",
     "output_type": "stream",
     "text": [
      "Requirement already satisfied: gitpython>=3.1.30 in c:\\users\\andre\\miniconda3\\envs\\tf\\lib\\site-packages (from -r ./yolov5/requirements.txt (line 5)) (3.1.43)\n",
      "Requirement already satisfied: matplotlib>=3.3 in c:\\users\\andre\\miniconda3\\envs\\tf\\lib\\site-packages (from -r ./yolov5/requirements.txt (line 6)) (3.8.4)\n",
      "Requirement already satisfied: numpy>=1.23.5 in c:\\users\\andre\\miniconda3\\envs\\tf\\lib\\site-packages (from -r ./yolov5/requirements.txt (line 7)) (1.26.4)\n",
      "Requirement already satisfied: opencv-python>=4.1.1 in c:\\users\\andre\\miniconda3\\envs\\tf\\lib\\site-packages (from -r ./yolov5/requirements.txt (line 8)) (4.10.0.84)\n",
      "Requirement already satisfied: pillow>=10.3.0 in c:\\users\\andre\\miniconda3\\envs\\tf\\lib\\site-packages (from -r ./yolov5/requirements.txt (line 9)) (10.3.0)\n",
      "Requirement already satisfied: psutil in c:\\users\\andre\\miniconda3\\envs\\tf\\lib\\site-packages (from -r ./yolov5/requirements.txt (line 10)) (5.9.0)\n",
      "Requirement already satisfied: PyYAML>=5.3.1 in c:\\users\\andre\\miniconda3\\envs\\tf\\lib\\site-packages (from -r ./yolov5/requirements.txt (line 11)) (6.0.1)\n",
      "Requirement already satisfied: requests>=2.32.0 in c:\\users\\andre\\miniconda3\\envs\\tf\\lib\\site-packages (from -r ./yolov5/requirements.txt (line 12)) (2.32.2)\n",
      "Requirement already satisfied: scipy>=1.4.1 in c:\\users\\andre\\miniconda3\\envs\\tf\\lib\\site-packages (from -r ./yolov5/requirements.txt (line 13)) (1.13.1)\n",
      "Requirement already satisfied: thop>=0.1.1 in c:\\users\\andre\\miniconda3\\envs\\tf\\lib\\site-packages (from -r ./yolov5/requirements.txt (line 14)) (0.1.1.post2209072238)\n",
      "Requirement already satisfied: torch>=1.8.0 in c:\\users\\andre\\miniconda3\\envs\\tf\\lib\\site-packages (from -r ./yolov5/requirements.txt (line 15)) (2.3.1+cu121)\n",
      "Requirement already satisfied: torchvision>=0.9.0 in c:\\users\\andre\\miniconda3\\envs\\tf\\lib\\site-packages (from -r ./yolov5/requirements.txt (line 16)) (0.18.1)\n",
      "Requirement already satisfied: tqdm>=4.64.0 in c:\\users\\andre\\miniconda3\\envs\\tf\\lib\\site-packages (from -r ./yolov5/requirements.txt (line 17)) (4.66.4)\n",
      "Requirement already satisfied: ultralytics>=8.2.34 in c:\\users\\andre\\miniconda3\\envs\\tf\\lib\\site-packages (from -r ./yolov5/requirements.txt (line 18)) (8.2.54)\n",
      "Requirement already satisfied: pandas>=1.1.4 in c:\\users\\andre\\miniconda3\\envs\\tf\\lib\\site-packages (from -r ./yolov5/requirements.txt (line 27)) (2.2.2)\n",
      "Requirement already satisfied: seaborn>=0.11.0 in c:\\users\\andre\\miniconda3\\envs\\tf\\lib\\site-packages (from -r ./yolov5/requirements.txt (line 28)) (0.13.2)\n",
      "Requirement already satisfied: setuptools>=65.5.1 in c:\\users\\andre\\miniconda3\\envs\\tf\\lib\\site-packages (from -r ./yolov5/requirements.txt (line 42)) (69.5.1)\n",
      "Requirement already satisfied: gitdb<5,>=4.0.1 in c:\\users\\andre\\miniconda3\\envs\\tf\\lib\\site-packages (from gitpython>=3.1.30->-r ./yolov5/requirements.txt (line 5)) (4.0.11)\n",
      "Requirement already satisfied: contourpy>=1.0.1 in c:\\users\\andre\\miniconda3\\envs\\tf\\lib\\site-packages (from matplotlib>=3.3->-r ./yolov5/requirements.txt (line 6)) (1.2.0)\n",
      "Requirement already satisfied: cycler>=0.10 in c:\\users\\andre\\miniconda3\\envs\\tf\\lib\\site-packages (from matplotlib>=3.3->-r ./yolov5/requirements.txt (line 6)) (0.11.0)\n",
      "Requirement already satisfied: fonttools>=4.22.0 in c:\\users\\andre\\miniconda3\\envs\\tf\\lib\\site-packages (from matplotlib>=3.3->-r ./yolov5/requirements.txt (line 6)) (4.51.0)\n",
      "Requirement already satisfied: kiwisolver>=1.3.1 in c:\\users\\andre\\miniconda3\\envs\\tf\\lib\\site-packages (from matplotlib>=3.3->-r ./yolov5/requirements.txt (line 6)) (1.4.4)\n",
      "Requirement already satisfied: packaging>=20.0 in c:\\users\\andre\\miniconda3\\envs\\tf\\lib\\site-packages (from matplotlib>=3.3->-r ./yolov5/requirements.txt (line 6)) (24.1)\n",
      "Requirement already satisfied: pyparsing>=2.3.1 in c:\\users\\andre\\miniconda3\\envs\\tf\\lib\\site-packages (from matplotlib>=3.3->-r ./yolov5/requirements.txt (line 6)) (3.0.9)\n",
      "Requirement already satisfied: python-dateutil>=2.7 in c:\\users\\andre\\miniconda3\\envs\\tf\\lib\\site-packages (from matplotlib>=3.3->-r ./yolov5/requirements.txt (line 6)) (2.9.0.post0)\n",
      "Requirement already satisfied: importlib-resources>=3.2.0 in c:\\users\\andre\\miniconda3\\envs\\tf\\lib\\site-packages (from matplotlib>=3.3->-r ./yolov5/requirements.txt (line 6)) (6.4.0)\n",
      "Requirement already satisfied: charset-normalizer<4,>=2 in c:\\users\\andre\\miniconda3\\envs\\tf\\lib\\site-packages (from requests>=2.32.0->-r ./yolov5/requirements.txt (line 12)) (3.3.2)\n",
      "Requirement already satisfied: idna<4,>=2.5 in c:\\users\\andre\\miniconda3\\envs\\tf\\lib\\site-packages (from requests>=2.32.0->-r ./yolov5/requirements.txt (line 12)) (3.7)\n",
      "Requirement already satisfied: urllib3<3,>=1.21.1 in c:\\users\\andre\\miniconda3\\envs\\tf\\lib\\site-packages (from requests>=2.32.0->-r ./yolov5/requirements.txt (line 12)) (2.2.2)\n",
      "Requirement already satisfied: certifi>=2017.4.17 in c:\\users\\andre\\miniconda3\\envs\\tf\\lib\\site-packages (from requests>=2.32.0->-r ./yolov5/requirements.txt (line 12)) (2024.7.4)\n",
      "Requirement already satisfied: filelock in c:\\users\\andre\\miniconda3\\envs\\tf\\lib\\site-packages (from torch>=1.8.0->-r ./yolov5/requirements.txt (line 15)) (3.15.4)\n",
      "Requirement already satisfied: typing-extensions>=4.8.0 in c:\\users\\andre\\miniconda3\\envs\\tf\\lib\\site-packages (from torch>=1.8.0->-r ./yolov5/requirements.txt (line 15)) (4.11.0)\n",
      "Requirement already satisfied: sympy in c:\\users\\andre\\miniconda3\\envs\\tf\\lib\\site-packages (from torch>=1.8.0->-r ./yolov5/requirements.txt (line 15)) (1.13.0)\n",
      "Requirement already satisfied: networkx in c:\\users\\andre\\miniconda3\\envs\\tf\\lib\\site-packages (from torch>=1.8.0->-r ./yolov5/requirements.txt (line 15)) (3.2.1)\n",
      "Requirement already satisfied: jinja2 in c:\\users\\andre\\miniconda3\\envs\\tf\\lib\\site-packages (from torch>=1.8.0->-r ./yolov5/requirements.txt (line 15)) (3.1.4)\n",
      "Requirement already satisfied: fsspec in c:\\users\\andre\\miniconda3\\envs\\tf\\lib\\site-packages (from torch>=1.8.0->-r ./yolov5/requirements.txt (line 15)) (2024.6.1)\n",
      "Requirement already satisfied: mkl<=2021.4.0,>=2021.1.1 in c:\\users\\andre\\miniconda3\\envs\\tf\\lib\\site-packages (from torch>=1.8.0->-r ./yolov5/requirements.txt (line 15)) (2021.4.0)\n",
      "Requirement already satisfied: colorama in c:\\users\\andre\\miniconda3\\envs\\tf\\lib\\site-packages (from tqdm>=4.64.0->-r ./yolov5/requirements.txt (line 17)) (0.4.6)\n",
      "Requirement already satisfied: py-cpuinfo in c:\\users\\andre\\miniconda3\\envs\\tf\\lib\\site-packages (from ultralytics>=8.2.34->-r ./yolov5/requirements.txt (line 18)) (9.0.0)\n",
      "Requirement already satisfied: ultralytics-thop>=2.0.0 in c:\\users\\andre\\miniconda3\\envs\\tf\\lib\\site-packages (from ultralytics>=8.2.34->-r ./yolov5/requirements.txt (line 18)) (2.0.0)\n",
      "Requirement already satisfied: pytz>=2020.1 in c:\\users\\andre\\miniconda3\\envs\\tf\\lib\\site-packages (from pandas>=1.1.4->-r ./yolov5/requirements.txt (line 27)) (2024.1)\n",
      "Requirement already satisfied: tzdata>=2022.7 in c:\\users\\andre\\miniconda3\\envs\\tf\\lib\\site-packages (from pandas>=1.1.4->-r ./yolov5/requirements.txt (line 27)) (2023.3)\n",
      "Requirement already satisfied: smmap<6,>=3.0.1 in c:\\users\\andre\\miniconda3\\envs\\tf\\lib\\site-packages (from gitdb<5,>=4.0.1->gitpython>=3.1.30->-r ./yolov5/requirements.txt (line 5)) (5.0.1)\n",
      "Requirement already satisfied: zipp>=3.1.0 in c:\\users\\andre\\miniconda3\\envs\\tf\\lib\\site-packages (from importlib-resources>=3.2.0->matplotlib>=3.3->-r ./yolov5/requirements.txt (line 6)) (3.17.0)\n",
      "Requirement already satisfied: intel-openmp==2021.* in c:\\users\\andre\\miniconda3\\envs\\tf\\lib\\site-packages (from mkl<=2021.4.0,>=2021.1.1->torch>=1.8.0->-r ./yolov5/requirements.txt (line 15)) (2021.4.0)\n",
      "Requirement already satisfied: tbb==2021.* in c:\\users\\andre\\miniconda3\\envs\\tf\\lib\\site-packages (from mkl<=2021.4.0,>=2021.1.1->torch>=1.8.0->-r ./yolov5/requirements.txt (line 15)) (2021.13.0)\n",
      "Requirement already satisfied: six>=1.5 in c:\\users\\andre\\miniconda3\\envs\\tf\\lib\\site-packages (from python-dateutil>=2.7->matplotlib>=3.3->-r ./yolov5/requirements.txt (line 6)) (1.16.0)\n",
      "Requirement already satisfied: MarkupSafe>=2.0 in c:\\users\\andre\\miniconda3\\envs\\tf\\lib\\site-packages (from jinja2->torch>=1.8.0->-r ./yolov5/requirements.txt (line 15)) (2.1.3)\n",
      "Requirement already satisfied: mpmath<1.4,>=1.1.0 in c:\\users\\andre\\miniconda3\\envs\\tf\\lib\\site-packages (from sympy->torch>=1.8.0->-r ./yolov5/requirements.txt (line 15)) (1.3.0)\n"
     ]
    }
   ],
   "execution_count": 8
  },
  {
   "metadata": {
    "ExecuteTime": {
     "end_time": "2024-07-12T02:20:12.502511Z",
     "start_time": "2024-07-12T02:20:12.497512Z"
    }
   },
   "cell_type": "code",
   "source": [
    "# Create a new directory\n",
    "os.makedirs('./yolov5/data_images/test', exist_ok=True)\n",
    "os.makedirs('./yolov5/data_images/train', exist_ok=True)"
   ],
   "id": "eba76490191f8f34",
   "outputs": [],
   "execution_count": 8
  },
  {
   "metadata": {
    "ExecuteTime": {
     "end_time": "2024-07-12T02:20:17.216456Z",
     "start_time": "2024-07-12T02:20:17.199457Z"
    }
   },
   "cell_type": "code",
   "source": [
    "### split the data into train and test\n",
    "df_train = df.iloc[:200]\n",
    "df_test = df.iloc[200:]"
   ],
   "id": "ec7194179acd5cf",
   "outputs": [],
   "execution_count": 9
  },
  {
   "metadata": {
    "ExecuteTime": {
     "end_time": "2024-07-12T02:20:45.434459Z",
     "start_time": "2024-07-12T02:20:45.048434Z"
    }
   },
   "cell_type": "code",
   "source": [
    "train_folder = './yolov5/data_images/train'\n",
    "\n",
    "values = df_train[['filename','center_x','center_y','bb_width','bb_height']].values\n",
    "for fname, x,y, w, h in values:\n",
    "    image_name = os.path.split(fname)[-1]\n",
    "    txt_name = os.path.splitext(image_name)[0]\n",
    "    \n",
    "    dst_image_path = os.path.join(train_folder,image_name)\n",
    "    dst_label_file = os.path.join(train_folder,txt_name+'.txt')\n",
    "    \n",
    "    # copy each image into the folder\n",
    "    copy(fname,dst_image_path)\n",
    "\n",
    "    # generate .txt which has label info\n",
    "    label_txt = f'0 {x} {y} {w} {h}'\n",
    "    with open(dst_label_file,mode='w') as f:\n",
    "        f.write(label_txt)\n",
    "        \n",
    "        f.close()\n",
    "\n",
    "test_folder = './yolov5/data_images/test'\n",
    "\n",
    "values = df_test[['filename','center_x','center_y','bb_width','bb_height']].values\n",
    "for fname, x,y, w, h in values:\n",
    "    image_name = os.path.split(fname)[-1]\n",
    "    txt_name = os.path.splitext(image_name)[0]\n",
    "    \n",
    "    dst_image_path = os.path.join(test_folder,image_name)\n",
    "    dst_label_file = os.path.join(test_folder,txt_name+'.txt')\n",
    "    \n",
    "    # copy each image into the folder\n",
    "    copy(fname,dst_image_path)\n",
    "\n",
    "    # generate .txt which has label info\n",
    "    label_txt = f'0 {x} {y} {w} {h}'\n",
    "    with open(dst_label_file,mode='w') as f:\n",
    "        f.write(label_txt)\n",
    "        \n",
    "        f.close()"
   ],
   "id": "c22a454cb8755786",
   "outputs": [],
   "execution_count": 10
  },
  {
   "metadata": {
    "ExecuteTime": {
     "end_time": "2024-07-12T02:32:18.785055Z",
     "start_time": "2024-07-12T02:32:17.220942Z"
    }
   },
   "cell_type": "code",
   "source": "!pip install GPUtil",
   "id": "af3ebb3aecd4bb7c",
   "outputs": [
    {
     "name": "stdout",
     "output_type": "stream",
     "text": [
      "Requirement already satisfied: GPUtil in c:\\users\\andre\\miniconda3\\envs\\tf\\lib\\site-packages (1.4.0)\n"
     ]
    }
   ],
   "execution_count": 9
  },
  {
   "metadata": {
    "ExecuteTime": {
     "end_time": "2024-07-12T02:32:21.376830Z",
     "start_time": "2024-07-12T02:32:19.766641Z"
    }
   },
   "cell_type": "code",
   "source": "!pip install torch torchvision torchaudio --index-url https://download.pytorch.org/whl/cu121",
   "id": "2e4f00d962ae372a",
   "outputs": [
    {
     "name": "stdout",
     "output_type": "stream",
     "text": [
      "Looking in indexes: https://download.pytorch.org/whl/cu121\n",
      "Requirement already satisfied: torch in c:\\users\\andre\\miniconda3\\envs\\tf\\lib\\site-packages (2.3.1+cu121)\n",
      "Requirement already satisfied: torchvision in c:\\users\\andre\\miniconda3\\envs\\tf\\lib\\site-packages (0.18.1)\n",
      "Requirement already satisfied: torchaudio in c:\\users\\andre\\miniconda3\\envs\\tf\\lib\\site-packages (2.3.1+cu121)\n",
      "Requirement already satisfied: filelock in c:\\users\\andre\\miniconda3\\envs\\tf\\lib\\site-packages (from torch) (3.15.4)\n",
      "Requirement already satisfied: typing-extensions>=4.8.0 in c:\\users\\andre\\miniconda3\\envs\\tf\\lib\\site-packages (from torch) (4.11.0)\n",
      "Requirement already satisfied: sympy in c:\\users\\andre\\miniconda3\\envs\\tf\\lib\\site-packages (from torch) (1.13.0)\n",
      "Requirement already satisfied: networkx in c:\\users\\andre\\miniconda3\\envs\\tf\\lib\\site-packages (from torch) (3.2.1)\n",
      "Requirement already satisfied: jinja2 in c:\\users\\andre\\miniconda3\\envs\\tf\\lib\\site-packages (from torch) (3.1.4)\n",
      "Requirement already satisfied: fsspec in c:\\users\\andre\\miniconda3\\envs\\tf\\lib\\site-packages (from torch) (2024.6.1)\n",
      "Requirement already satisfied: mkl<=2021.4.0,>=2021.1.1 in c:\\users\\andre\\miniconda3\\envs\\tf\\lib\\site-packages (from torch) (2021.4.0)\n",
      "Requirement already satisfied: numpy in c:\\users\\andre\\miniconda3\\envs\\tf\\lib\\site-packages (from torchvision) (1.26.4)\n",
      "Requirement already satisfied: pillow!=8.3.*,>=5.3.0 in c:\\users\\andre\\miniconda3\\envs\\tf\\lib\\site-packages (from torchvision) (10.3.0)\n",
      "Requirement already satisfied: intel-openmp==2021.* in c:\\users\\andre\\miniconda3\\envs\\tf\\lib\\site-packages (from mkl<=2021.4.0,>=2021.1.1->torch) (2021.4.0)\n",
      "Requirement already satisfied: tbb==2021.* in c:\\users\\andre\\miniconda3\\envs\\tf\\lib\\site-packages (from mkl<=2021.4.0,>=2021.1.1->torch) (2021.13.0)\n",
      "Requirement already satisfied: MarkupSafe>=2.0 in c:\\users\\andre\\miniconda3\\envs\\tf\\lib\\site-packages (from jinja2->torch) (2.1.3)\n",
      "Requirement already satisfied: mpmath<1.4,>=1.1.0 in c:\\users\\andre\\miniconda3\\envs\\tf\\lib\\site-packages (from sympy->torch) (1.3.0)\n"
     ]
    }
   ],
   "execution_count": 10
  },
  {
   "metadata": {
    "ExecuteTime": {
     "end_time": "2024-07-12T02:32:30.122402Z",
     "start_time": "2024-07-12T02:32:27.217403Z"
    }
   },
   "cell_type": "code",
   "source": [
    "import torch\n",
    "from GPUtil import showUtilization as gpu_usage\n",
    "from numba import cuda\n",
    "\n",
    "def free_gpu_cache():\n",
    "    print(\"Initial GPU Usage\")\n",
    "    gpu_usage()                             \n",
    "\n",
    "    torch.cuda.empty_cache()\n",
    "\n",
    "    cuda.select_device(0)\n",
    "    cuda.close()\n",
    "    cuda.select_device(0)\n",
    "\n",
    "    print(\"GPU Usage after emptying the cache\")\n",
    "    gpu_usage()\n",
    "\n",
    "free_gpu_cache()  "
   ],
   "id": "76aabf88c8dfb161",
   "outputs": [
    {
     "name": "stdout",
     "output_type": "stream",
     "text": [
      "Initial GPU Usage\n",
      "| ID | GPU | MEM |\n",
      "------------------\n",
      "|  0 |  1% | 10% |\n",
      "GPU Usage after emptying the cache\n",
      "| ID | GPU | MEM |\n",
      "------------------\n",
      "|  0 |  7% | 12% |\n"
     ]
    }
   ],
   "execution_count": 11
  },
  {
   "metadata": {
    "ExecuteTime": {
     "end_time": "2024-07-12T01:07:53.422213Z",
     "start_time": "2024-07-12T01:03:37.918232Z"
    }
   },
   "cell_type": "code",
   "source": "!python ./yolov5/train.py --data ./data/data.yaml --cfg ./yolov5/models/yolov5s.yaml --batch-size 8 --name Model --epochs 100",
   "id": "8fa5c804628696dd",
   "outputs": [
    {
     "name": "stdout",
     "output_type": "stream",
     "text": [
      "^C\n"
     ]
    }
   ],
   "execution_count": 43
  },
  {
   "metadata": {},
   "cell_type": "code",
   "outputs": [],
   "execution_count": null,
   "source": "!python ./yolov5/export.py --weight ./yolov5/runs/train/Model/weights/best.pt --include torchscript onnx",
   "id": "cdc13dfd72eedb3a"
  }
 ],
 "metadata": {
  "kernelspec": {
   "display_name": "Python 3",
   "language": "python",
   "name": "python3"
  },
  "language_info": {
   "codemirror_mode": {
    "name": "ipython",
    "version": 2
   },
   "file_extension": ".py",
   "mimetype": "text/x-python",
   "name": "python",
   "nbconvert_exporter": "python",
   "pygments_lexer": "ipython2",
   "version": "2.7.6"
  }
 },
 "nbformat": 4,
 "nbformat_minor": 5
}
